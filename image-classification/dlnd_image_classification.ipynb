{
 "cells": [
  {
   "cell_type": "markdown",
   "metadata": {
    "collapsed": true,
    "deletable": true,
    "editable": true
   },
   "source": [
    "# Image Classification\n",
    "In this project, you'll classify images from the [CIFAR-10 dataset](https://www.cs.toronto.edu/~kriz/cifar.html).  The dataset consists of airplanes, dogs, cats, and other objects. You'll preprocess the images, then train a convolutional neural network on all the samples. The images need to be normalized and the labels need to be one-hot encoded.  You'll get to apply what you learned and build a convolutional, max pooling, dropout, and fully connected layers.  At the end, you'll get to see your neural network's predictions on the sample images.\n",
    "## Get the Data\n",
    "Run the following cell to download the [CIFAR-10 dataset for python](https://www.cs.toronto.edu/~kriz/cifar-10-python.tar.gz)."
   ]
  },
  {
   "cell_type": "code",
   "execution_count": 1,
   "metadata": {
    "collapsed": false,
    "deletable": true,
    "editable": true
   },
   "outputs": [
    {
     "name": "stdout",
     "output_type": "stream",
     "text": [
      "All files found!\n"
     ]
    }
   ],
   "source": [
    "\"\"\"\n",
    "DON'T MODIFY ANYTHING IN THIS CELL THAT IS BELOW THIS LINE\n",
    "\"\"\"\n",
    "from urllib.request import urlretrieve\n",
    "from os.path import isfile, isdir\n",
    "from tqdm import tqdm\n",
    "import problem_unittests as tests\n",
    "import tarfile\n",
    "\n",
    "cifar10_dataset_folder_path = 'cifar-10-batches-py'\n",
    "\n",
    "# Use Floyd's cifar-10 dataset if present\n",
    "floyd_cifar10_location = '/cifar/cifar-10-python.tar.gz'\n",
    "if isfile(floyd_cifar10_location):\n",
    "    tar_gz_path = floyd_cifar10_location\n",
    "else:\n",
    "    tar_gz_path = 'cifar-10-python.tar.gz'\n",
    "\n",
    "class DLProgress(tqdm):\n",
    "    last_block = 0\n",
    "\n",
    "    def hook(self, block_num=1, block_size=1, total_size=None):\n",
    "        self.total = total_size\n",
    "        self.update((block_num - self.last_block) * block_size)\n",
    "        self.last_block = block_num\n",
    "\n",
    "if not isfile(tar_gz_path):\n",
    "    with DLProgress(unit='B', unit_scale=True, miniters=1, desc='CIFAR-10 Dataset') as pbar:\n",
    "        urlretrieve(\n",
    "            'https://www.cs.toronto.edu/~kriz/cifar-10-python.tar.gz',\n",
    "            tar_gz_path,\n",
    "            pbar.hook)\n",
    "\n",
    "if not isdir(cifar10_dataset_folder_path):\n",
    "    with tarfile.open(tar_gz_path) as tar:\n",
    "        tar.extractall()\n",
    "        tar.close()\n",
    "\n",
    "\n",
    "tests.test_folder_path(cifar10_dataset_folder_path)"
   ]
  },
  {
   "cell_type": "markdown",
   "metadata": {
    "deletable": true,
    "editable": true
   },
   "source": [
    "## Explore the Data\n",
    "The dataset is broken into batches to prevent your machine from running out of memory.  The CIFAR-10 dataset consists of 5 batches, named `data_batch_1`, `data_batch_2`, etc.. Each batch contains the labels and images that are one of the following:\n",
    "* airplane\n",
    "* automobile\n",
    "* bird\n",
    "* cat\n",
    "* deer\n",
    "* dog\n",
    "* frog\n",
    "* horse\n",
    "* ship\n",
    "* truck\n",
    "\n",
    "Understanding a dataset is part of making predictions on the data.  Play around with the code cell below by changing the `batch_id` and `sample_id`. The `batch_id` is the id for a batch (1-5). The `sample_id` is the id for a image and label pair in the batch.\n",
    "\n",
    "Ask yourself \"What are all possible labels?\", \"What is the range of values for the image data?\", \"Are the labels in order or random?\".  Answers to questions like these will help you preprocess the data and end up with better predictions."
   ]
  },
  {
   "cell_type": "code",
   "execution_count": 2,
   "metadata": {
    "collapsed": false,
    "deletable": true,
    "editable": true,
    "scrolled": true
   },
   "outputs": [
    {
     "name": "stdout",
     "output_type": "stream",
     "text": [
      "\n",
      "Stats of batch 3:\n",
      "Samples: 10000\n",
      "Label Counts: {0: 994, 1: 1042, 2: 965, 3: 997, 4: 990, 5: 1029, 6: 978, 7: 1015, 8: 961, 9: 1029}\n",
      "First 20 Labels: [8, 5, 0, 6, 9, 2, 8, 3, 6, 2, 7, 4, 6, 9, 0, 0, 7, 3, 7, 2]\n",
      "\n",
      "Example of Image 255:\n",
      "Image - Min Value: 0 Max Value: 255\n",
      "Image - Shape: (32, 32, 3)\n",
      "Label - Label Id: 3 Name: cat\n"
     ]
    },
    {
     "data": {
      "image/png": "[encoded data removed]",
      "text/plain": [
       "<matplotlib.figure.Figure at 0x7f65dc156a58>"
      ]
     },
     "metadata": {
      "image/png": {
       "height": 250,
       "width": 253
      }
     },
     "output_type": "display_data"
    }
   ],
   "source": [
    "%matplotlib inline\n",
    "%config InlineBackend.figure_format = 'retina'\n",
    "\n",
    "import helper\n",
    "import numpy as np\n",
    "\n",
    "# Explore the dataset\n",
    "batch_id = 3\n",
    "sample_id = 255\n",
    "helper.display_stats(cifar10_dataset_folder_path, batch_id, sample_id)"
   ]
  },
  {
   "cell_type": "markdown",
   "metadata": {
    "deletable": true,
    "editable": true
   },
   "source": [
    "## Implement Preprocess Functions\n",
    "### Normalize\n",
    "In the cell below, implement the `normalize` function to take in image data, `x`, and return it as a normalized Numpy array. The values should be in the range of 0 to 1, inclusive.  The return object should be the same shape as `x`."
   ]
  },
  {
   "cell_type": "code",
   "execution_count": 3,
   "metadata": {
    "collapsed": false,
    "deletable": true,
    "editable": true
   },
   "outputs": [
    {
     "name": "stdout",
     "output_type": "stream",
     "text": [
      "Tests Passed\n"
     ]
    }
   ],
   "source": [
    "def normalize(x):\n",
    "    \"\"\"\n",
    "    Normalize a list of sample image data in the range of 0 to 1\n",
    "    : x: List of image data.  The image shape is (32, 32, 3)\n",
    "    : return: Numpy array of normalize data\n",
    "    \"\"\"\n",
    "    # TODO: Implement Function\n",
    "    return (x-255)/255 + 1\n",
    "\n",
    "\n",
    "\"\"\"\n",
    "DON'T MODIFY ANYTHING IN THIS CELL THAT IS BELOW THIS LINE\n",
    "\"\"\"\n",
    "tests.test_normalize(normalize)"
   ]
  },
  {
   "cell_type": "markdown",
   "metadata": {
    "deletable": true,
    "editable": true
   },
   "source": [
    "### One-hot encode\n",
    "Just like the previous code cell, you'll be implementing a function for preprocessing.  This time, you'll implement the `one_hot_encode` function. The input, `x`, are a list of labels.  Implement the function to return the list of labels as One-Hot encoded Numpy array.  The possible values for labels are 0 to 9. The one-hot encoding function should return the same encoding for each value between each call to `one_hot_encode`.  Make sure to save the map of encodings outside the function.\n",
    "\n",
    "Hint: Don't reinvent the wheel."
   ]
  },
  {
   "cell_type": "code",
   "execution_count": 4,
   "metadata": {
    "collapsed": false,
    "deletable": true,
    "editable": true
   },
   "outputs": [
    {
     "name": "stdout",
     "output_type": "stream",
     "text": [
      "Tests Passed\n"
     ]
    }
   ],
   "source": [
    "from sklearn import preprocessing\n",
    "lb = preprocessing.LabelBinarizer()\n",
    "labels = np.array([0,1,2,3,4,5,6,7,8,9])\n",
    "lb.fit(labels)\n",
    "\n",
    "\n",
    "\n",
    "def one_hot_encode(x):\n",
    "    \"\"\"\n",
    "    One hot encode a list of sample labels. Return a one-hot encoded vector for each label.\n",
    "    : x: List of sample Labels\n",
    "    : return: Numpy array of one-hot encoded labels\n",
    "    \"\"\"\n",
    "    encoded_lbls = lb.transform(x)\n",
    "    return encoded_lbls\n",
    "\n",
    "\n",
    "\"\"\"\n",
    "DON'T MODIFY ANYTHING IN THIS CELL THAT IS BELOW THIS LINE\n",
    "\"\"\"\n",
    "tests.test_one_hot_encode(one_hot_encode)"
   ]
  },
  {
   "cell_type": "markdown",
   "metadata": {
    "deletable": true,
    "editable": true
   },
   "source": [
    "### Randomize Data\n",
    "As you saw from exploring the data above, the order of the samples are randomized.  It doesn't hurt to randomize it again, but you don't need to for this dataset."
   ]
  },
  {
   "cell_type": "markdown",
   "metadata": {
    "deletable": true,
    "editable": true
   },
   "source": [
    "## Preprocess all the data and save it\n",
    "Running the code cell below will preprocess all the CIFAR-10 data and save it to file. The code below also uses 10% of the training data for validation."
   ]
  },
  {
   "cell_type": "code",
   "execution_count": 5,
   "metadata": {
    "collapsed": true,
    "deletable": true,
    "editable": true
   },
   "outputs": [],
   "source": [
    "\"\"\"\n",
    "DON'T MODIFY ANYTHING IN THIS CELL\n",
    "\"\"\"\n",
    "# Preprocess Training, Validation, and Testing Data\n",
    "helper.preprocess_and_save_data(cifar10_dataset_folder_path, normalize, one_hot_encode)"
   ]
  },
  {
   "cell_type": "markdown",
   "metadata": {
    "deletable": true,
    "editable": true
   },
   "source": [
    "# Check Point\n",
    "This is your first checkpoint.  If you ever decide to come back to this notebook or have to restart the notebook, you can start from here.  The preprocessed data has been saved to disk."
   ]
  },
  {
   "cell_type": "code",
   "execution_count": 6,
   "metadata": {
    "collapsed": true,
    "deletable": true,
    "editable": true
   },
   "outputs": [],
   "source": [
    "\"\"\"\n",
    "DON'T MODIFY ANYTHING IN THIS CELL\n",
    "\"\"\"\n",
    "import pickle\n",
    "import problem_unittests as tests\n",
    "import helper\n",
    "\n",
    "# Load the Preprocessed Validation data\n",
    "valid_features, valid_labels = pickle.load(open('preprocess_validation.p', mode='rb'))"
   ]
  },
  {
   "cell_type": "markdown",
   "metadata": {
    "deletable": true,
    "editable": true
   },
   "source": [
    "## Build the network\n",
    "For the neural network, you'll build each layer into a function.  Most of the code you've seen has been outside of functions. To test your code more thoroughly, we require that you put each layer in a function.  This allows us to give you better feedback and test for simple mistakes using our unittests before you submit your project.\n",
    "\n",
    ">**Note:** If you're finding it hard to dedicate enough time for this course each week, we've provided a small shortcut to this part of the project. In the next couple of problems, you'll have the option to use classes from the [TensorFlow Layers](https://www.tensorflow.org/api_docs/python/tf/layers) or [TensorFlow Layers (contrib)](https://www.tensorflow.org/api_guides/python/contrib.layers) packages to build each layer, except the layers you build in the \"Convolutional and Max Pooling Layer\" section.  TF Layers is similar to Keras's and TFLearn's abstraction to layers, so it's easy to pickup.\n",
    "\n",
    ">However, if you would like to get the most out of this course, try to solve all the problems _without_ using anything from the TF Layers packages. You **can** still use classes from other packages that happen to have the same name as ones you find in TF Layers! For example, instead of using the TF Layers version of the `conv2d` class, [tf.layers.conv2d](https://www.tensorflow.org/api_docs/python/tf/layers/conv2d), you would want to use the TF Neural Network version of `conv2d`, [tf.nn.conv2d](https://www.tensorflow.org/api_docs/python/tf/nn/conv2d). \n",
    "\n",
    "Let's begin!\n",
    "\n",
    "### Input\n",
    "The neural network needs to read the image data, one-hot encoded labels, and dropout keep probability. Implement the following functions\n",
    "* Implement `neural_net_image_input`\n",
    " * Return a [TF Placeholder](https://www.tensorflow.org/api_docs/python/tf/placeholder)\n",
    " * Set the shape using `image_shape` with batch size set to `None`.\n",
    " * Name the TensorFlow placeholder \"x\" using the TensorFlow `name` parameter in the [TF Placeholder](https://www.tensorflow.org/api_docs/python/tf/placeholder).\n",
    "* Implement `neural_net_label_input`\n",
    " * Return a [TF Placeholder](https://www.tensorflow.org/api_docs/python/tf/placeholder)\n",
    " * Set the shape using `n_classes` with batch size set to `None`.\n",
    " * Name the TensorFlow placeholder \"y\" using the TensorFlow `name` parameter in the [TF Placeholder](https://www.tensorflow.org/api_docs/python/tf/placeholder).\n",
    "* Implement `neural_net_keep_prob_input`\n",
    " * Return a [TF Placeholder](https://www.tensorflow.org/api_docs/python/tf/placeholder) for dropout keep probability.\n",
    " * Name the TensorFlow placeholder \"keep_prob\" using the TensorFlow `name` parameter in the [TF Placeholder](https://www.tensorflow.org/api_docs/python/tf/placeholder).\n",
    "\n",
    "These names will be used at the end of the project to load your saved model.\n",
    "\n",
    "Note: `None` for shapes in TensorFlow allow for a dynamic size."
   ]
  },
  {
   "cell_type": "code",
   "execution_count": 7,
   "metadata": {
    "collapsed": false,
    "deletable": true,
    "editable": true
   },
   "outputs": [
    {
     "name": "stdout",
     "output_type": "stream",
     "text": [
      "Image Input Tests Passed.\n",
      "Label Input Tests Passed.\n",
      "Keep Prob Tests Passed.\n"
     ]
    }
   ],
   "source": [
    "import tensorflow as tf\n",
    "\n",
    "def neural_net_image_input(image_shape):\n",
    "    \"\"\"\n",
    "    Return a Tensor for a batch of image input\n",
    "    : image_shape: Shape of the images\n",
    "    : return: Tensor for image input.\n",
    "    \"\"\"\n",
    "    # TODO: Implement Function\n",
    "    return tf.placeholder(tf.float32, shape=[None, image_shape[0], image_shape[1], 3], name=\"x\")\n",
    "\n",
    "\n",
    "def neural_net_label_input(n_classes):\n",
    "    \"\"\"\n",
    "    Return a Tensor for a batch of label input\n",
    "    : n_classes: Number of classes\n",
    "    : return: Tensor for label input.\n",
    "    \"\"\"\n",
    "    # TODO: Implement Function\n",
    "    return tf.placeholder(tf.float32, shape=[None, n_classes], name=\"y\")\n",
    "\n",
    "\n",
    "def neural_net_keep_prob_input():\n",
    "    \"\"\"\n",
    "    Return a Tensor for keep probability\n",
    "    : return: Tensor for keep probability.\n",
    "    \"\"\"\n",
    "    # TODO: Implement Function\n",
    "    return tf.placeholder(tf.float32, name=\"keep_prob\")\n",
    "\n",
    "\n",
    "\"\"\"\n",
    "DON'T MODIFY ANYTHING IN THIS CELL THAT IS BELOW THIS LINE\n",
    "\"\"\"\n",
    "tf.reset_default_graph()\n",
    "tests.test_nn_image_inputs(neural_net_image_input)\n",
    "tests.test_nn_label_inputs(neural_net_label_input)\n",
    "tests.test_nn_keep_prob_inputs(neural_net_keep_prob_input)"
   ]
  },
  {
   "cell_type": "markdown",
   "metadata": {
    "deletable": true,
    "editable": true
   },
   "source": [
    "### Convolution and Max Pooling Layer\n",
    "Convolution layers have a lot of success with images. For this code cell, you should implement the function `conv2d_maxpool` to apply convolution then max pooling:\n",
    "* Create the weight and bias using `conv_ksize`, `conv_num_outputs` and the shape of `x_tensor`.\n",
    "* Apply a convolution to `x_tensor` using weight and `conv_strides`.\n",
    " * We recommend you use same padding, but you're welcome to use any padding.\n",
    "* Add bias\n",
    "* Add a nonlinear activation to the convolution.\n",
    "* Apply Max Pooling using `pool_ksize` and `pool_strides`.\n",
    " * We recommend you use same padding, but you're welcome to use any padding.\n",
    "\n",
    "**Note:** You **can't** use [TensorFlow Layers](https://www.tensorflow.org/api_docs/python/tf/layers) or [TensorFlow Layers (contrib)](https://www.tensorflow.org/api_guides/python/contrib.layers) for **this** layer, but you can still use TensorFlow's [Neural Network](https://www.tensorflow.org/api_docs/python/tf/nn) package. You may still use the shortcut option for all the **other** layers."
   ]
  },
  {
   "cell_type": "code",
   "execution_count": 8,
   "metadata": {
    "collapsed": false,
    "deletable": true,
    "editable": true
   },
   "outputs": [
    {
     "name": "stdout",
     "output_type": "stream",
     "text": [
      "Tests Passed\n"
     ]
    }
   ],
   "source": [
    "def conv2d_maxpool(x_tensor, conv_num_outputs, conv_ksize, conv_strides, pool_ksize, pool_strides):\n",
    "    \"\"\"\n",
    "    Apply convolution then max pooling to x_tensor\n",
    "    :param x_tensor: TensorFlow Tensor\n",
    "    :param conv_num_outputs: Number of outputs for the convolutional layer\n",
    "    :param conv_ksize: kernal size 2-D Tuple for the convolutional layer\n",
    "    :param conv_strides: Stride 2-D Tuple for convolution\n",
    "    :param pool_ksize: kernal size 2-D Tuple for pool\n",
    "    :param pool_strides: Stride 2-D Tuple for pool\n",
    "    : return: A tensor that represents convolution and max pooling of x_tensor\n",
    "    \"\"\"\n",
    "    # TODO: Implement Function\n",
    "    # Weight and bias\n",
    "    input_depth = int(x_tensor.shape[3])  # input shape is something like [?, 32, 32, 5]\n",
    "    weight = tf.Variable(tf.truncated_normal(stddev=0.1, shape=(conv_strides[0], conv_strides[1], input_depth, conv_num_outputs)))\n",
    "    bias = tf.Variable(tf.zeros(conv_num_outputs))\n",
    "    \n",
    "    # Apply Convolution\n",
    "    conv_layer = tf.nn.conv2d(x_tensor, weight, strides=[1, conv_strides[0], conv_strides[1], 1], padding='SAME')\n",
    "    # Add bias\n",
    "    conv_layer = tf.nn.bias_add(conv_layer, bias)\n",
    "    # Apply non-linear activation function\n",
    "    conv_layer = tf.nn.relu(conv_layer)\n",
    "    # Apply Max Pooling\n",
    "    conv_layer = tf.nn.max_pool(\n",
    "        conv_layer,\n",
    "        ksize=[1, pool_ksize[0], pool_ksize[1], 1],\n",
    "        strides=[1, pool_strides[0], pool_strides[1], 1],\n",
    "        padding='SAME')\n",
    "    \n",
    "    return conv_layer \n",
    "\n",
    "\n",
    "\"\"\"\n",
    "DON'T MODIFY ANYTHING IN THIS CELL THAT IS BELOW THIS LINE\n",
    "\"\"\"\n",
    "tests.test_con_pool(conv2d_maxpool)"
   ]
  },
  {
   "cell_type": "markdown",
   "metadata": {
    "deletable": true,
    "editable": true
   },
   "source": [
    "### Flatten Layer\n",
    "Implement the `flatten` function to change the dimension of `x_tensor` from a 4-D tensor to a 2-D tensor.  The output should be the shape (*Batch Size*, *Flattened Image Size*). Shortcut option: you can use classes from the [TensorFlow Layers](https://www.tensorflow.org/api_docs/python/tf/layers) or [TensorFlow Layers (contrib)](https://www.tensorflow.org/api_guides/python/contrib.layers) packages for this layer. For more of a challenge, only use other TensorFlow packages."
   ]
  },
  {
   "cell_type": "code",
   "execution_count": 9,
   "metadata": {
    "collapsed": false,
    "deletable": true,
    "editable": true
   },
   "outputs": [
    {
     "name": "stdout",
     "output_type": "stream",
     "text": [
      "Tests Passed\n"
     ]
    }
   ],
   "source": [
    "def flatten(x_tensor):\n",
    "    \"\"\"\n",
    "    Flatten x_tensor to (Batch Size, Flattened Image Size)\n",
    "    : x_tensor: A tensor of size (Batch Size, ...), where ... are the image dimensions.\n",
    "    : return: A tensor of size (Batch Size, Flattened Image Size).\n",
    "    \"\"\"\n",
    "    return tf.contrib.layers.flatten(x_tensor)\n",
    "\n",
    "\n",
    "\n",
    "\n",
    "\"\"\"\n",
    "DON'T MODIFY ANYTHING IN THIS CELL THAT IS BELOW THIS LINE\n",
    "\"\"\"\n",
    "tests.test_flatten(flatten)"
   ]
  },
  {
   "cell_type": "markdown",
   "metadata": {
    "deletable": true,
    "editable": true
   },
   "source": [
    "### Fully-Connected Layer\n",
    "Implement the `fully_conn` function to apply a fully connected layer to `x_tensor` with the shape (*Batch Size*, *num_outputs*). Shortcut option: you can use classes from the [TensorFlow Layers](https://www.tensorflow.org/api_docs/python/tf/layers) or [TensorFlow Layers (contrib)](https://www.tensorflow.org/api_guides/python/contrib.layers) packages for this layer. For more of a challenge, only use other TensorFlow packages."
   ]
  },
  {
   "cell_type": "code",
   "execution_count": 10,
   "metadata": {
    "collapsed": false,
    "deletable": true,
    "editable": true
   },
   "outputs": [
    {
     "name": "stdout",
     "output_type": "stream",
     "text": [
      "Tests Passed\n"
     ]
    }
   ],
   "source": [
    "def fully_conn(x_tensor, num_outputs):\n",
    "    \"\"\"\n",
    "    Apply a fully connected layer to x_tensor using weight and bias\n",
    "    : x_tensor: A 2-D tensor where the first dimension is batch size.\n",
    "    : num_outputs: The number of output that the new tensor should be.\n",
    "    : return: A 2-D tensor where the second dimension is num_outputs.\n",
    "    \"\"\"\n",
    "    #n_input = x_tensor.shape.as_list()[1] # at this point we have tensor of size [BatchSize, imgsize]\n",
    "\n",
    "    #weights = tf.Variable(tf.random_normal([n_input, num_outputs]))\n",
    "    #biases  = tf.Variable(tf.random_normal([num_outputs])),\n",
    "\n",
    "    #fcl = tf.add(tf.matmul(x_tensor, weights), biases)\n",
    "    #fcl = tf.nn.relu(fcl)\n",
    "    fcl = tf.layers.dense(x_tensor, \n",
    "                          num_outputs, \n",
    "                          use_bias=True,                 \n",
    "                          activation=tf.nn.relu)\n",
    "    return fcl\n",
    "\n",
    "\n",
    "\"\"\"\n",
    "DON'T MODIFY ANYTHING IN THIS CELL THAT IS BELOW THIS LINE\n",
    "\"\"\"\n",
    "tests.test_fully_conn(fully_conn)"
   ]
  },
  {
   "cell_type": "markdown",
   "metadata": {
    "deletable": true,
    "editable": true
   },
   "source": [
    "### Output Layer\n",
    "Implement the `output` function to apply a fully connected layer to `x_tensor` with the shape (*Batch Size*, *num_outputs*). Shortcut option: you can use classes from the [TensorFlow Layers](https://www.tensorflow.org/api_docs/python/tf/layers) or [TensorFlow Layers (contrib)](https://www.tensorflow.org/api_guides/python/contrib.layers) packages for this layer. For more of a challenge, only use other TensorFlow packages.\n",
    "\n",
    "**Note:** Activation, softmax, or cross entropy should **not** be applied to this."
   ]
  },
  {
   "cell_type": "code",
   "execution_count": 11,
   "metadata": {
    "collapsed": false,
    "deletable": true,
    "editable": true
   },
   "outputs": [
    {
     "name": "stdout",
     "output_type": "stream",
     "text": [
      "Tests Passed\n"
     ]
    }
   ],
   "source": [
    "def output(x_tensor, num_outputs):\n",
    "    \"\"\"\n",
    "    Apply a output layer to x_tensor using weight and bias\n",
    "    : x_tensor: A 2-D tensor where the first dimension is batch size.\n",
    "    : num_outputs: The number of output that the new tensor should be.\n",
    "    : return: A 2-D tensor where the second dimension is num_outputs.\n",
    "    \"\"\"\n",
    "    # TODO: Implement Function\n",
    "    #n_input = x_tensor.shape.as_list()[1] # at this point we have tensor of size [BatchSize, n_input]\n",
    "\n",
    "    #weights = tf.Variable(tf.random_normal([n_input, num_outputs]))\n",
    "    #biases  = tf.Variable(tf.random_normal([num_outputs])),\n",
    "\n",
    "    #fcl = tf.add(tf.matmul(x_tensor, weights), biases)\n",
    "    fcl = tf.layers.dense(x_tensor, \n",
    "                          num_outputs, \n",
    "                          activation=None)\n",
    "    # no activation function\n",
    "    return fcl\n",
    "\n",
    "\n",
    "\"\"\"\n",
    "DON'T MODIFY ANYTHING IN THIS CELL THAT IS BELOW THIS LINE\n",
    "\"\"\"\n",
    "tests.test_output(output)"
   ]
  },
  {
   "cell_type": "markdown",
   "metadata": {
    "deletable": true,
    "editable": true
   },
   "source": [
    "### Create Convolutional Model\n",
    "Implement the function `conv_net` to create a convolutional neural network model. The function takes in a batch of images, `x`, and outputs logits.  Use the layers you created above to create this model:\n",
    "\n",
    "* Apply 1, 2, or 3 Convolution and Max Pool layers\n",
    "* Apply a Flatten Layer\n",
    "* Apply 1, 2, or 3 Fully Connected Layers\n",
    "* Apply an Output Layer\n",
    "* Return the output\n",
    "* Apply [TensorFlow's Dropout](https://www.tensorflow.org/api_docs/python/tf/nn/dropout) to one or more layers in the model using `keep_prob`. "
   ]
  },
  {
   "cell_type": "code",
   "execution_count": 12,
   "metadata": {
    "collapsed": false,
    "deletable": true,
    "editable": true
   },
   "outputs": [
    {
     "name": "stdout",
     "output_type": "stream",
     "text": [
      "Neural Network Built!\n"
     ]
    }
   ],
   "source": [
    "def conv_net(x, keep_prob):\n",
    "    \"\"\"\n",
    "    Create a convolutional neural network model\n",
    "    : x: Placeholder tensor that holds image data.\n",
    "    : keep_prob: Placeholder tensor that hold dropout keep probability.\n",
    "    : return: Tensor that represents logits\n",
    "    \"\"\"\n",
    "    #print(x.shape)\n",
    "    \n",
    "    # conv2d kernel, stride and pool sizes\n",
    "    conv_ksize = (3, 3)\n",
    "    conv_strides = (1,1)\n",
    "    pool_ksize = (2,2)\n",
    "    pool_strides = (2,2)\n",
    "    \n",
    "    \n",
    "    # TODO: Apply 1, 2, or 3 Convolution and Max Pool layers\n",
    "    #    Play around with different number of outputs, kernel size and stride\n",
    "    # Function Definition from Above:\n",
    "    conv_net = conv2d_maxpool(x, 32, conv_ksize, conv_strides, pool_ksize, pool_strides)\n",
    "    conv_net = conv2d_maxpool(conv_net, 64, conv_ksize, conv_strides, pool_ksize, pool_strides)\n",
    "    conv_net = conv2d_maxpool(conv_net, 128, conv_ksize, conv_strides, pool_ksize, pool_strides)\n",
    "\n",
    "    #print(\"after conv2d_with_maxpool\")\n",
    "\n",
    "    # TODO: Apply a Flatten Layer\n",
    "    # Function Definition from Above:\n",
    "    conv_net = flatten(conv_net)\n",
    "    #print(\"after flatten\")\n",
    "    \n",
    "\n",
    "    # TODO: Apply 1, 2, or 3 Fully Connected Layers\n",
    "    #    Play around with different number of outputs\n",
    "    # Function Definition from Above:\n",
    "    conv_net = fully_conn(conv_net, 256)\n",
    "    conv_net = tf.nn.dropout(conv_net, keep_prob) \n",
    "\n",
    "    #conv_net = fully_conn(conv_net, 96)\n",
    "    #conv_net = tf.nn.dropout(conv_net, keep_prob) \n",
    "\n",
    "\n",
    "    #print(\"after fully connected layer\")\n",
    "    \n",
    "    \n",
    "    # TODO: Apply an Output Layer\n",
    "    #    Set this to the number of classes\n",
    "    # Function Definition from Above:\n",
    "    conv_net = output(conv_net, 10)\n",
    "    #conv_net = tf.nn.sigmoid(conv_net)\n",
    "    #conv_net = tf.contrib.layers.softmax(conv_net)\n",
    "\n",
    "\n",
    "    #print(\"after output layer\")\n",
    "    \n",
    "    \n",
    "    # TODO: return output\n",
    "    return conv_net\n",
    "\n",
    "\n",
    "\"\"\"\n",
    "DON'T MODIFY ANYTHING IN THIS CELL THAT IS BELOW THIS LINE\n",
    "\"\"\"\n",
    "\n",
    "##############################\n",
    "## Build the Neural Network ##\n",
    "##############################\n",
    "\n",
    "# Remove previous weights, bias, inputs, etc..\n",
    "tf.reset_default_graph()\n",
    "\n",
    "# Inputs\n",
    "x = neural_net_image_input((32, 32, 3))\n",
    "y = neural_net_label_input(10)\n",
    "keep_prob = neural_net_keep_prob_input()\n",
    "\n",
    "# Model\n",
    "logits = conv_net(x, keep_prob)\n",
    "\n",
    "# Name logits Tensor, so that is can be loaded from disk after training\n",
    "logits = tf.identity(logits, name='logits')\n",
    "\n",
    "# Loss and Optimizer\n",
    "cost = tf.reduce_mean(tf.nn.softmax_cross_entropy_with_logits(logits=logits, labels=y))\n",
    "optimizer = tf.train.AdamOptimizer().minimize(cost)\n",
    "\n",
    "# Accuracy\n",
    "correct_pred = tf.equal(tf.argmax(logits, 1), tf.argmax(y, 1))\n",
    "accuracy = tf.reduce_mean(tf.cast(correct_pred, tf.float32), name='accuracy')\n",
    "\n",
    "tests.test_conv_net(conv_net)"
   ]
  },
  {
   "cell_type": "markdown",
   "metadata": {
    "deletable": true,
    "editable": true
   },
   "source": [
    "## Train the Neural Network\n",
    "### Single Optimization\n",
    "Implement the function `train_neural_network` to do a single optimization.  The optimization should use `optimizer` to optimize in `session` with a `feed_dict` of the following:\n",
    "* `x` for image input\n",
    "* `y` for labels\n",
    "* `keep_prob` for keep probability for dropout\n",
    "\n",
    "This function will be called for each batch, so `tf.global_variables_initializer()` has already been called.\n",
    "\n",
    "Note: Nothing needs to be returned. This function is only optimizing the neural network."
   ]
  },
  {
   "cell_type": "code",
   "execution_count": 13,
   "metadata": {
    "collapsed": false,
    "deletable": true,
    "editable": true
   },
   "outputs": [
    {
     "name": "stdout",
     "output_type": "stream",
     "text": [
      "Tests Passed\n"
     ]
    }
   ],
   "source": [
    "def train_neural_network(session, optimizer, keep_probability, feature_batch, label_batch):\n",
    "    \"\"\"\n",
    "    Optimize the session on a batch of images and labels\n",
    "    : session: Current TensorFlow session\n",
    "    : optimizer: TensorFlow optimizer function\n",
    "    : keep_probability: keep probability\n",
    "    : feature_batch: Batch of Numpy image data\n",
    "    : label_batch: Batch of Numpy label data\n",
    "    \"\"\"\n",
    "    session.run(optimizer, feed_dict={\n",
    "                x: feature_batch,\n",
    "                y: label_batch,\n",
    "                keep_prob: keep_probability})\n",
    "\n",
    "\n",
    "\n",
    "\"\"\"\n",
    "DON'T MODIFY ANYTHING IN THIS CELL THAT IS BELOW THIS LINE\n",
    "\"\"\"\n",
    "tests.test_train_nn(train_neural_network)"
   ]
  },
  {
   "cell_type": "markdown",
   "metadata": {
    "deletable": true,
    "editable": true
   },
   "source": [
    "### Show Stats\n",
    "Implement the function `print_stats` to print loss and validation accuracy.  Use the global variables `valid_features` and `valid_labels` to calculate validation accuracy.  Use a keep probability of `1.0` to calculate the loss and validation accuracy."
   ]
  },
  {
   "cell_type": "code",
   "execution_count": 14,
   "metadata": {
    "collapsed": true,
    "deletable": true,
    "editable": true
   },
   "outputs": [],
   "source": [
    "def print_stats(session, feature_batch, label_batch, cost, accuracy):\n",
    "    \"\"\"\n",
    "    Print information about loss and validation accuracy\n",
    "    : session: Current TensorFlow session\n",
    "    : feature_batch: Batch of Numpy image data\n",
    "    : label_batch: Batch of Numpy label data\n",
    "    : cost: TensorFlow cost function\n",
    "    : accuracy: TensorFlow accuracy function\n",
    "    \"\"\"\n",
    "    global valid_features, valid_labels\n",
    "    loss = sess.run(cost, feed_dict={\n",
    "                x: feature_batch,\n",
    "                y: label_batch,\n",
    "                keep_prob: 1.})\n",
    "    \n",
    "    valid_acc = sess.run(accuracy, feed_dict={\n",
    "                x: valid_features,\n",
    "                y: valid_labels,\n",
    "                keep_prob: 1.})\n",
    "    \n",
    "    print('Loss: {:>10.4f} Validation Accuracy: {:.6f}'.format(\n",
    "                loss,\n",
    "                valid_acc))\n",
    "        "
   ]
  },
  {
   "cell_type": "markdown",
   "metadata": {
    "deletable": true,
    "editable": true
   },
   "source": [
    "### Hyperparameters\n",
    "Tune the following parameters:\n",
    "* Set `epochs` to the number of iterations until the network stops learning or start overfitting\n",
    "* Set `batch_size` to the highest number that your machine has memory for.  Most people set them to common sizes of memory:\n",
    " * 64\n",
    " * 128\n",
    " * 256\n",
    " * ...\n",
    "* Set `keep_probability` to the probability of keeping a node using dropout"
   ]
  },
  {
   "cell_type": "code",
   "execution_count": 15,
   "metadata": {
    "collapsed": true,
    "deletable": true,
    "editable": true
   },
   "outputs": [],
   "source": [
    "# TODO: Tune Parameters\n",
    "epochs = 35\n",
    "batch_size = 512\n",
    "keep_probability = 0.75"
   ]
  },
  {
   "cell_type": "markdown",
   "metadata": {
    "deletable": true,
    "editable": true
   },
   "source": [
    "### Train on a Single CIFAR-10 Batch\n",
    "Instead of training the neural network on all the CIFAR-10 batches of data, let's use a single batch. This should save time while you iterate on the model to get a better accuracy.  Once the final validation accuracy is 50% or greater, run the model on all the data in the next section."
   ]
  },
  {
   "cell_type": "code",
   "execution_count": 16,
   "metadata": {
    "collapsed": false,
    "deletable": true,
    "editable": true
   },
   "outputs": [
    {
     "name": "stdout",
     "output_type": "stream",
     "text": [
      "Checking the Training on a Single Batch...\n",
      "Epoch  1, CIFAR-10 Batch 1:  Loss:     2.2843 Validation Accuracy: 0.171200\n",
      "Epoch  2, CIFAR-10 Batch 1:  Loss:     2.2360 Validation Accuracy: 0.164400\n",
      "Epoch  3, CIFAR-10 Batch 1:  Loss:     2.1594 Validation Accuracy: 0.227600\n",
      "Epoch  4, CIFAR-10 Batch 1:  Loss:     2.1029 Validation Accuracy: 0.230600\n",
      "Epoch  5, CIFAR-10 Batch 1:  Loss:     2.0751 Validation Accuracy: 0.240000\n",
      "Epoch  6, CIFAR-10 Batch 1:  Loss:     2.0643 Validation Accuracy: 0.255400\n",
      "Epoch  7, CIFAR-10 Batch 1:  Loss:     2.0349 Validation Accuracy: 0.262800\n",
      "Epoch  8, CIFAR-10 Batch 1:  Loss:     2.0245 Validation Accuracy: 0.273800\n",
      "Epoch  9, CIFAR-10 Batch 1:  Loss:     1.9986 Validation Accuracy: 0.279800\n",
      "Epoch 10, CIFAR-10 Batch 1:  Loss:     1.9853 Validation Accuracy: 0.291400\n",
      "Epoch 11, CIFAR-10 Batch 1:  Loss:     1.9671 Validation Accuracy: 0.296400\n",
      "Epoch 12, CIFAR-10 Batch 1:  Loss:     1.9446 Validation Accuracy: 0.310600\n",
      "Epoch 13, CIFAR-10 Batch 1:  Loss:     1.9262 Validation Accuracy: 0.313000\n",
      "Epoch 14, CIFAR-10 Batch 1:  Loss:     1.9121 Validation Accuracy: 0.322400\n",
      "Epoch 15, CIFAR-10 Batch 1:  Loss:     1.9006 Validation Accuracy: 0.327800\n",
      "Epoch 16, CIFAR-10 Batch 1:  Loss:     1.8772 Validation Accuracy: 0.336400\n",
      "Epoch 17, CIFAR-10 Batch 1:  Loss:     1.8626 Validation Accuracy: 0.340400\n",
      "Epoch 18, CIFAR-10 Batch 1:  Loss:     1.8447 Validation Accuracy: 0.354800\n",
      "Epoch 19, CIFAR-10 Batch 1:  Loss:     1.8255 Validation Accuracy: 0.355600\n",
      "Epoch 20, CIFAR-10 Batch 1:  Loss:     1.8218 Validation Accuracy: 0.362600\n",
      "Epoch 21, CIFAR-10 Batch 1:  Loss:     1.8073 Validation Accuracy: 0.365800\n",
      "Epoch 22, CIFAR-10 Batch 1:  Loss:     1.7861 Validation Accuracy: 0.369800\n",
      "Epoch 23, CIFAR-10 Batch 1:  Loss:     1.7701 Validation Accuracy: 0.373800\n",
      "Epoch 24, CIFAR-10 Batch 1:  Loss:     1.7547 Validation Accuracy: 0.376200\n",
      "Epoch 25, CIFAR-10 Batch 1:  Loss:     1.7415 Validation Accuracy: 0.380600\n",
      "Epoch 26, CIFAR-10 Batch 1:  Loss:     1.7204 Validation Accuracy: 0.389200\n",
      "Epoch 27, CIFAR-10 Batch 1:  Loss:     1.7078 Validation Accuracy: 0.392000\n",
      "Epoch 28, CIFAR-10 Batch 1:  Loss:     1.6925 Validation Accuracy: 0.395600\n",
      "Epoch 29, CIFAR-10 Batch 1:  Loss:     1.6750 Validation Accuracy: 0.395800\n",
      "Epoch 30, CIFAR-10 Batch 1:  Loss:     1.6638 Validation Accuracy: 0.403000\n",
      "Epoch 31, CIFAR-10 Batch 1:  Loss:     1.6527 Validation Accuracy: 0.405600\n",
      "Epoch 32, CIFAR-10 Batch 1:  Loss:     1.6421 Validation Accuracy: 0.409000\n",
      "Epoch 33, CIFAR-10 Batch 1:  Loss:     1.6227 Validation Accuracy: 0.407000\n",
      "Epoch 34, CIFAR-10 Batch 1:  Loss:     1.6194 Validation Accuracy: 0.421000\n",
      "Epoch 35, CIFAR-10 Batch 1:  Loss:     1.6022 Validation Accuracy: 0.416400\n"
     ]
    }
   ],
   "source": [
    "\"\"\"\n",
    "DON'T MODIFY ANYTHING IN THIS CELL\n",
    "\"\"\"\n",
    "print('Checking the Training on a Single Batch...')\n",
    "with tf.Session() as sess:\n",
    "    # Initializing the variables\n",
    "    sess.run(tf.global_variables_initializer())\n",
    "    \n",
    "    # Training cycle\n",
    "    for epoch in range(epochs):\n",
    "        batch_i = 1\n",
    "        for batch_features, batch_labels in helper.load_preprocess_training_batch(batch_i, batch_size):\n",
    "            train_neural_network(sess, optimizer, keep_probability, batch_features, batch_labels)\n",
    "        print('Epoch {:>2}, CIFAR-10 Batch {}:  '.format(epoch + 1, batch_i), end='')\n",
    "        print_stats(sess, batch_features, batch_labels, cost, accuracy)"
   ]
  },
  {
   "cell_type": "markdown",
   "metadata": {
    "deletable": true,
    "editable": true
   },
   "source": [
    "### Fully Train the Model\n",
    "Now that you got a good accuracy with a single CIFAR-10 batch, try it with all five batches."
   ]
  },
  {
   "cell_type": "code",
   "execution_count": 17,
   "metadata": {
    "collapsed": false,
    "deletable": true,
    "editable": true
   },
   "outputs": [
    {
     "name": "stdout",
     "output_type": "stream",
     "text": [
      "Training...\n",
      "Epoch  1, CIFAR-10 Batch 1:  Loss:     2.2885 Validation Accuracy: 0.122800\n",
      "Epoch  1, CIFAR-10 Batch 2:  Loss:     2.2328 Validation Accuracy: 0.213600\n",
      "Epoch  1, CIFAR-10 Batch 3:  Loss:     2.1329 Validation Accuracy: 0.222400\n",
      "Epoch  1, CIFAR-10 Batch 4:  Loss:     2.0629 Validation Accuracy: 0.229800\n",
      "Epoch  1, CIFAR-10 Batch 5:  Loss:     2.0339 Validation Accuracy: 0.261400\n",
      "Epoch  2, CIFAR-10 Batch 1:  Loss:     2.0508 Validation Accuracy: 0.261600\n",
      "Epoch  2, CIFAR-10 Batch 2:  Loss:     1.9781 Validation Accuracy: 0.294400\n",
      "Epoch  2, CIFAR-10 Batch 3:  Loss:     1.8995 Validation Accuracy: 0.294000\n",
      "Epoch  2, CIFAR-10 Batch 4:  Loss:     1.9116 Validation Accuracy: 0.292000\n",
      "Epoch  2, CIFAR-10 Batch 5:  Loss:     1.9055 Validation Accuracy: 0.305400\n",
      "Epoch  3, CIFAR-10 Batch 1:  Loss:     1.9346 Validation Accuracy: 0.322000\n",
      "Epoch  3, CIFAR-10 Batch 2:  Loss:     1.8249 Validation Accuracy: 0.317200\n",
      "Epoch  3, CIFAR-10 Batch 3:  Loss:     1.7622 Validation Accuracy: 0.339400\n",
      "Epoch  3, CIFAR-10 Batch 4:  Loss:     1.8063 Validation Accuracy: 0.343400\n",
      "Epoch  3, CIFAR-10 Batch 5:  Loss:     1.7887 Validation Accuracy: 0.352600\n",
      "Epoch  4, CIFAR-10 Batch 1:  Loss:     1.8459 Validation Accuracy: 0.348000\n",
      "Epoch  4, CIFAR-10 Batch 2:  Loss:     1.7257 Validation Accuracy: 0.343800\n",
      "Epoch  4, CIFAR-10 Batch 3:  Loss:     1.6994 Validation Accuracy: 0.361000\n",
      "Epoch  4, CIFAR-10 Batch 4:  Loss:     1.6965 Validation Accuracy: 0.374000\n",
      "Epoch  4, CIFAR-10 Batch 5:  Loss:     1.6994 Validation Accuracy: 0.376200\n",
      "Epoch  5, CIFAR-10 Batch 1:  Loss:     1.7667 Validation Accuracy: 0.383200\n",
      "Epoch  5, CIFAR-10 Batch 2:  Loss:     1.6467 Validation Accuracy: 0.379000\n",
      "Epoch  5, CIFAR-10 Batch 3:  Loss:     1.6377 Validation Accuracy: 0.384400\n",
      "Epoch  5, CIFAR-10 Batch 4:  Loss:     1.6191 Validation Accuracy: 0.396600\n",
      "Epoch  5, CIFAR-10 Batch 5:  Loss:     1.6447 Validation Accuracy: 0.383800\n",
      "Epoch  6, CIFAR-10 Batch 1:  Loss:     1.7088 Validation Accuracy: 0.399800\n",
      "Epoch  6, CIFAR-10 Batch 2:  Loss:     1.5767 Validation Accuracy: 0.404000\n",
      "Epoch  6, CIFAR-10 Batch 3:  Loss:     1.5631 Validation Accuracy: 0.406600\n",
      "Epoch  6, CIFAR-10 Batch 4:  Loss:     1.5533 Validation Accuracy: 0.415600\n",
      "Epoch  6, CIFAR-10 Batch 5:  Loss:     1.5918 Validation Accuracy: 0.409600\n",
      "Epoch  7, CIFAR-10 Batch 1:  Loss:     1.6562 Validation Accuracy: 0.416400\n",
      "Epoch  7, CIFAR-10 Batch 2:  Loss:     1.5150 Validation Accuracy: 0.421400\n",
      "Epoch  7, CIFAR-10 Batch 3:  Loss:     1.5064 Validation Accuracy: 0.425400\n",
      "Epoch  7, CIFAR-10 Batch 4:  Loss:     1.4922 Validation Accuracy: 0.431200\n",
      "Epoch  7, CIFAR-10 Batch 5:  Loss:     1.5571 Validation Accuracy: 0.417200\n",
      "Epoch  8, CIFAR-10 Batch 1:  Loss:     1.6111 Validation Accuracy: 0.423400\n",
      "Epoch  8, CIFAR-10 Batch 2:  Loss:     1.4701 Validation Accuracy: 0.431600\n",
      "Epoch  8, CIFAR-10 Batch 3:  Loss:     1.4567 Validation Accuracy: 0.439200\n",
      "Epoch  8, CIFAR-10 Batch 4:  Loss:     1.4446 Validation Accuracy: 0.441000\n",
      "Epoch  8, CIFAR-10 Batch 5:  Loss:     1.5142 Validation Accuracy: 0.432800\n",
      "Epoch  9, CIFAR-10 Batch 1:  Loss:     1.5746 Validation Accuracy: 0.435600\n",
      "Epoch  9, CIFAR-10 Batch 2:  Loss:     1.4194 Validation Accuracy: 0.447600\n",
      "Epoch  9, CIFAR-10 Batch 3:  Loss:     1.4177 Validation Accuracy: 0.451200\n",
      "Epoch  9, CIFAR-10 Batch 4:  Loss:     1.4008 Validation Accuracy: 0.454400\n",
      "Epoch  9, CIFAR-10 Batch 5:  Loss:     1.4900 Validation Accuracy: 0.441200\n",
      "Epoch 10, CIFAR-10 Batch 1:  Loss:     1.5414 Validation Accuracy: 0.454000\n",
      "Epoch 10, CIFAR-10 Batch 2:  Loss:     1.3799 Validation Accuracy: 0.455600\n",
      "Epoch 10, CIFAR-10 Batch 3:  Loss:     1.3815 Validation Accuracy: 0.459400\n",
      "Epoch 10, CIFAR-10 Batch 4:  Loss:     1.3744 Validation Accuracy: 0.469800\n",
      "Epoch 10, CIFAR-10 Batch 5:  Loss:     1.4437 Validation Accuracy: 0.455600\n",
      "Epoch 11, CIFAR-10 Batch 1:  Loss:     1.5029 Validation Accuracy: 0.468200\n",
      "Epoch 11, CIFAR-10 Batch 2:  Loss:     1.3364 Validation Accuracy: 0.466800\n",
      "Epoch 11, CIFAR-10 Batch 3:  Loss:     1.3506 Validation Accuracy: 0.472400\n",
      "Epoch 11, CIFAR-10 Batch 4:  Loss:     1.3419 Validation Accuracy: 0.477000\n",
      "Epoch 11, CIFAR-10 Batch 5:  Loss:     1.4142 Validation Accuracy: 0.467000\n",
      "Epoch 12, CIFAR-10 Batch 1:  Loss:     1.4651 Validation Accuracy: 0.474600\n",
      "Epoch 12, CIFAR-10 Batch 2:  Loss:     1.3029 Validation Accuracy: 0.472800\n",
      "Epoch 12, CIFAR-10 Batch 3:  Loss:     1.3246 Validation Accuracy: 0.478600\n",
      "Epoch 12, CIFAR-10 Batch 4:  Loss:     1.3079 Validation Accuracy: 0.489800\n",
      "Epoch 12, CIFAR-10 Batch 5:  Loss:     1.3829 Validation Accuracy: 0.474000\n",
      "Epoch 13, CIFAR-10 Batch 1:  Loss:     1.4321 Validation Accuracy: 0.481200\n",
      "Epoch 13, CIFAR-10 Batch 2:  Loss:     1.2673 Validation Accuracy: 0.481200\n",
      "Epoch 13, CIFAR-10 Batch 3:  Loss:     1.2913 Validation Accuracy: 0.489400\n",
      "Epoch 13, CIFAR-10 Batch 4:  Loss:     1.2835 Validation Accuracy: 0.498400\n",
      "Epoch 13, CIFAR-10 Batch 5:  Loss:     1.3652 Validation Accuracy: 0.482000\n",
      "Epoch 14, CIFAR-10 Batch 1:  Loss:     1.4066 Validation Accuracy: 0.489200\n",
      "Epoch 14, CIFAR-10 Batch 2:  Loss:     1.2506 Validation Accuracy: 0.485800\n",
      "Epoch 14, CIFAR-10 Batch 3:  Loss:     1.2563 Validation Accuracy: 0.498600\n",
      "Epoch 14, CIFAR-10 Batch 4:  Loss:     1.2636 Validation Accuracy: 0.501400\n",
      "Epoch 14, CIFAR-10 Batch 5:  Loss:     1.3322 Validation Accuracy: 0.493800\n",
      "Epoch 15, CIFAR-10 Batch 1:  Loss:     1.3831 Validation Accuracy: 0.497000\n",
      "Epoch 15, CIFAR-10 Batch 2:  Loss:     1.2272 Validation Accuracy: 0.492600\n",
      "Epoch 15, CIFAR-10 Batch 3:  Loss:     1.2440 Validation Accuracy: 0.507400\n",
      "Epoch 15, CIFAR-10 Batch 4:  Loss:     1.2425 Validation Accuracy: 0.511200\n",
      "Epoch 15, CIFAR-10 Batch 5:  Loss:     1.3124 Validation Accuracy: 0.499800\n",
      "Epoch 16, CIFAR-10 Batch 1:  Loss:     1.3583 Validation Accuracy: 0.501400\n",
      "Epoch 16, CIFAR-10 Batch 2:  Loss:     1.2139 Validation Accuracy: 0.497200\n",
      "Epoch 16, CIFAR-10 Batch 3:  Loss:     1.2294 Validation Accuracy: 0.506800\n",
      "Epoch 16, CIFAR-10 Batch 4:  Loss:     1.2372 Validation Accuracy: 0.515000\n",
      "Epoch 16, CIFAR-10 Batch 5:  Loss:     1.2936 Validation Accuracy: 0.507000\n",
      "Epoch 17, CIFAR-10 Batch 1:  Loss:     1.3407 Validation Accuracy: 0.508000\n",
      "Epoch 17, CIFAR-10 Batch 2:  Loss:     1.1986 Validation Accuracy: 0.499000\n",
      "Epoch 17, CIFAR-10 Batch 3:  Loss:     1.2075 Validation Accuracy: 0.512400\n",
      "Epoch 17, CIFAR-10 Batch 4:  Loss:     1.2140 Validation Accuracy: 0.522600\n",
      "Epoch 17, CIFAR-10 Batch 5:  Loss:     1.2726 Validation Accuracy: 0.514600\n",
      "Epoch 18, CIFAR-10 Batch 1:  Loss:     1.3175 Validation Accuracy: 0.518000\n",
      "Epoch 18, CIFAR-10 Batch 2:  Loss:     1.1659 Validation Accuracy: 0.513600\n",
      "Epoch 18, CIFAR-10 Batch 3:  Loss:     1.1897 Validation Accuracy: 0.515000\n",
      "Epoch 18, CIFAR-10 Batch 4:  Loss:     1.1936 Validation Accuracy: 0.521000\n",
      "Epoch 18, CIFAR-10 Batch 5:  Loss:     1.2521 Validation Accuracy: 0.515600\n",
      "Epoch 19, CIFAR-10 Batch 1:  Loss:     1.3038 Validation Accuracy: 0.518000\n",
      "Epoch 19, CIFAR-10 Batch 2:  Loss:     1.1510 Validation Accuracy: 0.513600\n",
      "Epoch 19, CIFAR-10 Batch 3:  Loss:     1.1722 Validation Accuracy: 0.520200\n",
      "Epoch 19, CIFAR-10 Batch 4:  Loss:     1.1856 Validation Accuracy: 0.528600\n",
      "Epoch 19, CIFAR-10 Batch 5:  Loss:     1.2464 Validation Accuracy: 0.520600\n",
      "Epoch 20, CIFAR-10 Batch 1:  Loss:     1.2870 Validation Accuracy: 0.524800\n",
      "Epoch 20, CIFAR-10 Batch 2:  Loss:     1.1407 Validation Accuracy: 0.520800\n",
      "Epoch 20, CIFAR-10 Batch 3:  Loss:     1.1682 Validation Accuracy: 0.521400\n",
      "Epoch 20, CIFAR-10 Batch 4:  Loss:     1.1638 Validation Accuracy: 0.531000\n",
      "Epoch 20, CIFAR-10 Batch 5:  Loss:     1.2262 Validation Accuracy: 0.525200\n",
      "Epoch 21, CIFAR-10 Batch 1:  Loss:     1.2626 Validation Accuracy: 0.527000\n",
      "Epoch 21, CIFAR-10 Batch 2:  Loss:     1.1279 Validation Accuracy: 0.521000\n",
      "Epoch 21, CIFAR-10 Batch 3:  Loss:     1.1524 Validation Accuracy: 0.523000\n",
      "Epoch 21, CIFAR-10 Batch 4:  Loss:     1.1439 Validation Accuracy: 0.533400\n",
      "Epoch 21, CIFAR-10 Batch 5:  Loss:     1.2116 Validation Accuracy: 0.531200\n",
      "Epoch 22, CIFAR-10 Batch 1:  Loss:     1.2542 Validation Accuracy: 0.528200\n",
      "Epoch 22, CIFAR-10 Batch 2:  Loss:     1.1197 Validation Accuracy: 0.525000\n",
      "Epoch 22, CIFAR-10 Batch 3:  Loss:     1.1440 Validation Accuracy: 0.530000\n",
      "Epoch 22, CIFAR-10 Batch 4:  Loss:     1.1287 Validation Accuracy: 0.533600\n",
      "Epoch 22, CIFAR-10 Batch 5:  Loss:     1.2016 Validation Accuracy: 0.529000\n",
      "Epoch 23, CIFAR-10 Batch 1:  Loss:     1.2396 Validation Accuracy: 0.530600\n",
      "Epoch 23, CIFAR-10 Batch 2:  Loss:     1.0973 Validation Accuracy: 0.533600\n",
      "Epoch 23, CIFAR-10 Batch 3:  Loss:     1.1192 Validation Accuracy: 0.534400\n",
      "Epoch 23, CIFAR-10 Batch 4:  Loss:     1.1225 Validation Accuracy: 0.538200\n",
      "Epoch 23, CIFAR-10 Batch 5:  Loss:     1.1797 Validation Accuracy: 0.528200\n",
      "Epoch 24, CIFAR-10 Batch 1:  Loss:     1.2338 Validation Accuracy: 0.535000\n",
      "Epoch 24, CIFAR-10 Batch 2:  Loss:     1.1024 Validation Accuracy: 0.529400\n",
      "Epoch 24, CIFAR-10 Batch 3:  Loss:     1.1137 Validation Accuracy: 0.534200\n",
      "Epoch 24, CIFAR-10 Batch 4:  Loss:     1.1120 Validation Accuracy: 0.540400\n",
      "Epoch 24, CIFAR-10 Batch 5:  Loss:     1.1791 Validation Accuracy: 0.529000\n",
      "Epoch 25, CIFAR-10 Batch 1:  Loss:     1.2231 Validation Accuracy: 0.541000\n",
      "Epoch 25, CIFAR-10 Batch 2:  Loss:     1.0871 Validation Accuracy: 0.533000\n",
      "Epoch 25, CIFAR-10 Batch 3:  Loss:     1.0992 Validation Accuracy: 0.537600\n",
      "Epoch 25, CIFAR-10 Batch 4:  Loss:     1.0953 Validation Accuracy: 0.542600\n",
      "Epoch 25, CIFAR-10 Batch 5:  Loss:     1.1622 Validation Accuracy: 0.533200\n",
      "Epoch 26, CIFAR-10 Batch 1:  Loss:     1.2163 Validation Accuracy: 0.540600\n",
      "Epoch 26, CIFAR-10 Batch 2:  Loss:     1.0729 Validation Accuracy: 0.537200\n",
      "Epoch 26, CIFAR-10 Batch 3:  Loss:     1.1100 Validation Accuracy: 0.538600\n",
      "Epoch 26, CIFAR-10 Batch 4:  Loss:     1.0799 Validation Accuracy: 0.543800\n",
      "Epoch 26, CIFAR-10 Batch 5:  Loss:     1.1330 Validation Accuracy: 0.536000\n",
      "Epoch 27, CIFAR-10 Batch 1:  Loss:     1.1923 Validation Accuracy: 0.542600\n",
      "Epoch 27, CIFAR-10 Batch 2:  Loss:     1.0633 Validation Accuracy: 0.539200\n",
      "Epoch 27, CIFAR-10 Batch 3:  Loss:     1.0817 Validation Accuracy: 0.543800\n",
      "Epoch 27, CIFAR-10 Batch 4:  Loss:     1.0791 Validation Accuracy: 0.542000\n",
      "Epoch 27, CIFAR-10 Batch 5:  Loss:     1.1266 Validation Accuracy: 0.541800\n",
      "Epoch 28, CIFAR-10 Batch 1:  Loss:     1.1875 Validation Accuracy: 0.542600\n",
      "Epoch 28, CIFAR-10 Batch 2:  Loss:     1.0528 Validation Accuracy: 0.542200\n",
      "Epoch 28, CIFAR-10 Batch 3:  Loss:     1.0913 Validation Accuracy: 0.540200\n",
      "Epoch 28, CIFAR-10 Batch 4:  Loss:     1.0609 Validation Accuracy: 0.545000\n",
      "Epoch 28, CIFAR-10 Batch 5:  Loss:     1.1239 Validation Accuracy: 0.543400\n",
      "Epoch 29, CIFAR-10 Batch 1:  Loss:     1.1700 Validation Accuracy: 0.544000\n",
      "Epoch 29, CIFAR-10 Batch 2:  Loss:     1.0539 Validation Accuracy: 0.548000\n",
      "Epoch 29, CIFAR-10 Batch 3:  Loss:     1.0686 Validation Accuracy: 0.545600\n",
      "Epoch 29, CIFAR-10 Batch 4:  Loss:     1.0558 Validation Accuracy: 0.546200\n",
      "Epoch 29, CIFAR-10 Batch 5:  Loss:     1.1023 Validation Accuracy: 0.546400\n",
      "Epoch 30, CIFAR-10 Batch 1:  Loss:     1.1588 Validation Accuracy: 0.544600\n",
      "Epoch 30, CIFAR-10 Batch 2:  Loss:     1.0404 Validation Accuracy: 0.542800\n",
      "Epoch 30, CIFAR-10 Batch 3:  Loss:     1.0560 Validation Accuracy: 0.546800\n",
      "Epoch 30, CIFAR-10 Batch 4:  Loss:     1.0503 Validation Accuracy: 0.552000\n",
      "Epoch 30, CIFAR-10 Batch 5:  Loss:     1.1015 Validation Accuracy: 0.542800\n",
      "Epoch 31, CIFAR-10 Batch 1:  Loss:     1.1601 Validation Accuracy: 0.547000\n",
      "Epoch 31, CIFAR-10 Batch 2:  Loss:     1.0315 Validation Accuracy: 0.545400\n",
      "Epoch 31, CIFAR-10 Batch 3:  Loss:     1.0437 Validation Accuracy: 0.547000\n",
      "Epoch 31, CIFAR-10 Batch 4:  Loss:     1.0277 Validation Accuracy: 0.552000\n",
      "Epoch 31, CIFAR-10 Batch 5:  Loss:     1.0902 Validation Accuracy: 0.547000\n",
      "Epoch 32, CIFAR-10 Batch 1:  Loss:     1.1385 Validation Accuracy: 0.546000\n",
      "Epoch 32, CIFAR-10 Batch 2:  Loss:     1.0242 Validation Accuracy: 0.547800\n",
      "Epoch 32, CIFAR-10 Batch 3:  Loss:     1.0215 Validation Accuracy: 0.548800\n",
      "Epoch 32, CIFAR-10 Batch 4:  Loss:     1.0296 Validation Accuracy: 0.555400\n",
      "Epoch 32, CIFAR-10 Batch 5:  Loss:     1.0758 Validation Accuracy: 0.546400\n",
      "Epoch 33, CIFAR-10 Batch 1:  Loss:     1.1287 Validation Accuracy: 0.551000\n",
      "Epoch 33, CIFAR-10 Batch 2:  Loss:     0.9962 Validation Accuracy: 0.553000\n",
      "Epoch 33, CIFAR-10 Batch 3:  Loss:     1.0186 Validation Accuracy: 0.547600\n",
      "Epoch 33, CIFAR-10 Batch 4:  Loss:     1.0037 Validation Accuracy: 0.553400\n",
      "Epoch 33, CIFAR-10 Batch 5:  Loss:     1.0649 Validation Accuracy: 0.548800\n",
      "Epoch 34, CIFAR-10 Batch 1:  Loss:     1.1167 Validation Accuracy: 0.556000\n",
      "Epoch 34, CIFAR-10 Batch 2:  Loss:     0.9937 Validation Accuracy: 0.553200\n",
      "Epoch 34, CIFAR-10 Batch 3:  Loss:     1.0130 Validation Accuracy: 0.553400\n",
      "Epoch 34, CIFAR-10 Batch 4:  Loss:     0.9994 Validation Accuracy: 0.554800\n",
      "Epoch 34, CIFAR-10 Batch 5:  Loss:     1.0553 Validation Accuracy: 0.546200\n",
      "Epoch 35, CIFAR-10 Batch 1:  Loss:     1.1079 Validation Accuracy: 0.553000\n",
      "Epoch 35, CIFAR-10 Batch 2:  Loss:     0.9927 Validation Accuracy: 0.552200\n",
      "Epoch 35, CIFAR-10 Batch 3:  Loss:     1.0136 Validation Accuracy: 0.555000\n",
      "Epoch 35, CIFAR-10 Batch 4:  Loss:     1.0048 Validation Accuracy: 0.549800\n",
      "Epoch 35, CIFAR-10 Batch 5:  Loss:     1.0545 Validation Accuracy: 0.551000\n"
     ]
    }
   ],
   "source": [
    "\"\"\"\n",
    "DON'T MODIFY ANYTHING IN THIS CELL\n",
    "\"\"\"\n",
    "save_model_path = './image_classification'\n",
    "\n",
    "print('Training...')\n",
    "with tf.Session() as sess:\n",
    "    # Initializing the variables\n",
    "    sess.run(tf.global_variables_initializer())\n",
    "    \n",
    "    # Training cycle\n",
    "    for epoch in range(epochs):\n",
    "        # Loop over all batches\n",
    "        n_batches = 5\n",
    "        for batch_i in range(1, n_batches + 1):\n",
    "            for batch_features, batch_labels in helper.load_preprocess_training_batch(batch_i, batch_size):\n",
    "                train_neural_network(sess, optimizer, keep_probability, batch_features, batch_labels)\n",
    "            print('Epoch {:>2}, CIFAR-10 Batch {}:  '.format(epoch + 1, batch_i), end='')\n",
    "            print_stats(sess, batch_features, batch_labels, cost, accuracy)\n",
    "            \n",
    "    # Save Model\n",
    "    saver = tf.train.Saver()\n",
    "    save_path = saver.save(sess, save_model_path)"
   ]
  },
  {
   "cell_type": "markdown",
   "metadata": {
    "deletable": true,
    "editable": true
   },
   "source": [
    "# Checkpoint\n",
    "The model has been saved to disk.\n",
    "## Test Model\n",
    "Test your model against the test dataset.  This will be your final accuracy. You should have an accuracy greater than 50%. If you don't, keep tweaking the model architecture and parameters."
   ]
  },
  {
   "cell_type": "code",
   "execution_count": 19,
   "metadata": {
    "collapsed": false,
    "deletable": true,
    "editable": true
   },
   "outputs": [
    {
     "name": "stdout",
     "output_type": "stream",
     "text": [
      "INFO:tensorflow:Restoring parameters from ./image_classification\n",
      "Testing Accuracy: 0.5646714180707931\n",
      "\n"
     ]
    },
    {
     "data": {
      "image/png": "[encoded data removed]",
      "text/plain": [
       "<matplotlib.figure.Figure at 0x7f66596b1dd8>"
      ]
     },
     "metadata": {
      "image/png": {
       "height": 319,
       "width": 355
      }
     },
     "output_type": "display_data"
    }
   ],
   "source": [
    "\"\"\"\n",
    "DON'T MODIFY ANYTHING IN THIS CELL\n",
    "\"\"\"\n",
    "%matplotlib inline\n",
    "%config InlineBackend.figure_format = 'retina'\n",
    "\n",
    "import tensorflow as tf\n",
    "import pickle\n",
    "import helper\n",
    "import random\n",
    "\n",
    "# Set batch size if not already set\n",
    "try:\n",
    "    if batch_size:\n",
    "        pass\n",
    "except NameError:\n",
    "    batch_size = 64\n",
    "\n",
    "save_model_path = './image_classification'\n",
    "n_samples = 4\n",
    "top_n_predictions = 3\n",
    "\n",
    "def test_model():\n",
    "    \"\"\"\n",
    "    Test the saved model against the test dataset\n",
    "    \"\"\"\n",
    "\n",
    "    test_features, test_labels = pickle.load(open('preprocess_test.p', mode='rb'))\n",
    "    loaded_graph = tf.Graph()\n",
    "\n",
    "    with tf.Session(graph=loaded_graph) as sess:\n",
    "        # Load model\n",
    "        loader = tf.train.import_meta_graph(save_model_path + '.meta')\n",
    "        loader.restore(sess, save_model_path)\n",
    "\n",
    "        # Get Tensors from loaded model\n",
    "        loaded_x = loaded_graph.get_tensor_by_name('x:0')\n",
    "        loaded_y = loaded_graph.get_tensor_by_name('y:0')\n",
    "        loaded_keep_prob = loaded_graph.get_tensor_by_name('keep_prob:0')\n",
    "        loaded_logits = loaded_graph.get_tensor_by_name('logits:0')\n",
    "        loaded_acc = loaded_graph.get_tensor_by_name('accuracy:0')\n",
    "        \n",
    "        # Get accuracy in batches for memory limitations\n",
    "        test_batch_acc_total = 0\n",
    "        test_batch_count = 0\n",
    "        \n",
    "        for test_feature_batch, test_label_batch in helper.batch_features_labels(test_features, test_labels, batch_size):\n",
    "            test_batch_acc_total += sess.run(\n",
    "                loaded_acc,\n",
    "                feed_dict={loaded_x: test_feature_batch, loaded_y: test_label_batch, loaded_keep_prob: 1.0})\n",
    "            test_batch_count += 1\n",
    "\n",
    "        print('Testing Accuracy: {}\\n'.format(test_batch_acc_total/test_batch_count))\n",
    "\n",
    "        # Print Random Samples\n",
    "        random_test_features, random_test_labels = tuple(zip(*random.sample(list(zip(test_features, test_labels)), n_samples)))\n",
    "        random_test_predictions = sess.run(\n",
    "            tf.nn.top_k(tf.nn.softmax(loaded_logits), top_n_predictions),\n",
    "            feed_dict={loaded_x: random_test_features, loaded_y: random_test_labels, loaded_keep_prob: 1.0})\n",
    "        helper.display_image_predictions(random_test_features, random_test_labels, random_test_predictions)\n",
    "\n",
    "\n",
    "test_model()"
   ]
  },
  {
   "cell_type": "markdown",
   "metadata": {
    "deletable": true,
    "editable": true
   },
   "source": [
    "## Why 50-80% Accuracy?\n",
    "You might be wondering why you can't get an accuracy any higher. First things first, 50% isn't bad for a simple CNN.  Pure guessing would get you 10% accuracy. However, you might notice people are getting scores [well above 80%](http://rodrigob.github.io/are_we_there_yet/build/classification_datasets_results.html#43494641522d3130).  That's because we haven't taught you all there is to know about neural networks. We still need to cover a few more techniques.\n",
    "## Submitting This Project\n",
    "When submitting this project, make sure to run all the cells before saving the notebook.  Save the notebook file as \"dlnd_image_classification.ipynb\" and save it as a HTML file under \"File\" -> \"Download as\".  Include the \"helper.py\" and \"problem_unittests.py\" files in your submission."
   ]
  }
 ],
 "metadata": {
  "kernelspec": {
   "display_name": "Python 3",
   "language": "python",
   "name": "python3"
  },
  "language_info": {
   "codemirror_mode": {
    "name": "ipython",
    "version": 3
   },
   "file_extension": ".py",
   "mimetype": "text/x-python",
   "name": "python",
   "nbconvert_exporter": "python",
   "pygments_lexer": "ipython3",
   "version": "3.5.2"
  },
  "widgets": {
   "state": {},
   "version": "1.1.2"
  }
 },
 "nbformat": 4,
 "nbformat_minor": 1
}
